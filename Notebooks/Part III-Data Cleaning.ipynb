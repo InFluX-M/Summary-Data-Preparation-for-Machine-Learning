{
 "cells": [
  {
   "cell_type": "markdown",
   "id": "1314de67-15c1-4a77-8845-2e84cb9af7f2",
   "metadata": {},
   "source": [
    "# Data Preparation for Machine Learning"
   ]
  },
  {
   "cell_type": "markdown",
   "id": "fa866c7f-2079-4b01-8aa3-dcfbd935b407",
   "metadata": {},
   "source": [
    "## Part III: Data Cleaning"
   ]
  },
  {
   "cell_type": "markdown",
   "id": "1437fc0a-7c1b-4406-b3d4-0bf84f19d06b",
   "metadata": {},
   "source": [
    "### Chapter 5: Basic Data Cleaning"
   ]
  },
  {
   "cell_type": "markdown",
   "id": "e4c47163-ac8a-4101-8169-f81a5853cf1e",
   "metadata": {},
   "source": [
    "## Tutorial Overview\n",
    "This chapter focuses on essential data cleaning steps that are foundational in any machine learning project. It is divided into seven main parts:\n",
    "1. Messy Datasets\n",
    "2. Identify Columns That Contain a Single Value\n",
    "3. Delete Columns That Contain a Single Value\n",
    "4. Consider Columns That Have Very Few Values\n",
    "5. Remove Columns That Have A Low Variance\n",
    "6. Identify Rows That Contain Duplicate Data\n",
    "7. Delete Rows That Contain Duplicate Data"
   ]
  },
  {
   "cell_type": "code",
   "execution_count": null,
   "id": "c69c3c19-0777-4acc-8673-417ebb506c0a",
   "metadata": {},
   "outputs": [],
   "source": []
  },
  {
   "cell_type": "code",
   "execution_count": null,
   "id": "1e9b37e4-fefd-4749-af49-e0ab9facdeda",
   "metadata": {},
   "outputs": [],
   "source": []
  },
  {
   "cell_type": "code",
   "execution_count": null,
   "id": "0318dcb5-dd34-4932-97bc-561df7adf4ee",
   "metadata": {},
   "outputs": [],
   "source": []
  },
  {
   "cell_type": "code",
   "execution_count": null,
   "id": "abcbf888-a5d9-4f9b-a916-9ba7e2d1d412",
   "metadata": {},
   "outputs": [],
   "source": []
  },
  {
   "cell_type": "markdown",
   "id": "d4f95fc5-5824-4eef-9823-a9a73d9fb1e6",
   "metadata": {},
   "source": [
    "### Chapter 6: Outlier Identification and Removal"
   ]
  },
  {
   "cell_type": "markdown",
   "id": "96333f58-079b-4d3b-9b7b-2b48968654f5",
   "metadata": {},
   "source": [
    "### Chapter 7: How to Mark and Remove Missing Data"
   ]
  },
  {
   "cell_type": "markdown",
   "id": "ef08dac4-c3ec-4ee5-8a1f-28d08cfc4416",
   "metadata": {},
   "source": [
    "### Chapter 8: How to Use Statistical Imputation"
   ]
  },
  {
   "cell_type": "markdown",
   "id": "b69d2e30-6e0d-49d9-a442-23c6bf36bc88",
   "metadata": {},
   "source": [
    "### Chapter 9: How to Use KNN Imputation"
   ]
  },
  {
   "cell_type": "markdown",
   "id": "b3bfe1f1-2aab-40d1-a61f-71ddde10d4af",
   "metadata": {},
   "source": [
    "### Chapter 10: How to Use Iterative Imputation"
   ]
  }
 ],
 "metadata": {
  "kernelspec": {
   "display_name": "Python 3 (ipykernel)",
   "language": "python",
   "name": "python3"
  },
  "language_info": {
   "codemirror_mode": {
    "name": "ipython",
    "version": 3
   },
   "file_extension": ".py",
   "mimetype": "text/x-python",
   "name": "python",
   "nbconvert_exporter": "python",
   "pygments_lexer": "ipython3",
   "version": "3.10.13"
  }
 },
 "nbformat": 4,
 "nbformat_minor": 5
}
