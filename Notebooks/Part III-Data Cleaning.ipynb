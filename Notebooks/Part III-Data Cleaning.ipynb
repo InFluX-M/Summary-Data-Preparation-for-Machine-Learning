{
 "cells": [
  {
   "cell_type": "markdown",
   "id": "1314de67-15c1-4a77-8845-2e84cb9af7f2",
   "metadata": {},
   "source": [
    "# Data Preparation for Machine Learning"
   ]
  },
  {
   "cell_type": "markdown",
   "id": "fa866c7f-2079-4b01-8aa3-dcfbd935b407",
   "metadata": {},
   "source": [
    "## Part III: Data Cleaning"
   ]
  },
  {
   "cell_type": "markdown",
   "id": "1437fc0a-7c1b-4406-b3d4-0bf84f19d06b",
   "metadata": {
    "jp-MarkdownHeadingCollapsed": true
   },
   "source": [
    "### Chapter 5: Basic Data Cleaning"
   ]
  },
  {
   "cell_type": "markdown",
   "id": "e4c47163-ac8a-4101-8169-f81a5853cf1e",
   "metadata": {
    "jp-MarkdownHeadingCollapsed": true
   },
   "source": [
    "#### Tutorial Overview\n",
    "This chapter focuses on essential data cleaning steps that are foundational in any machine learning project. It is divided into seven main parts:\n",
    "1. Messy Datasets\n",
    "2. Identify Columns That Contain a Single Value\n",
    "3. Delete Columns That Contain a Single Value\n",
    "4. Consider Columns That Have Very Few Values\n",
    "5. Remove Columns That Have A Low Variance\n",
    "6. Identify Rows That Contain Duplicate Data\n",
    "7. Delete Rows That Contain Duplicate Data"
   ]
  },
  {
   "cell_type": "markdown",
   "id": "9b6582a1-6ebd-4062-b6f2-57fae891c556",
   "metadata": {
    "jp-MarkdownHeadingCollapsed": true
   },
   "source": [
    "#### Identify Columns That Contain a Single Value"
   ]
  },
  {
   "cell_type": "code",
   "execution_count": 1,
   "id": "1e9b37e4-fefd-4749-af49-e0ab9facdeda",
   "metadata": {},
   "outputs": [
    {
     "name": "stdout",
     "output_type": "stream",
     "text": [
      "(937, 50)\n",
      "0     238\n",
      "1     297\n",
      "2     927\n",
      "3     933\n",
      "4     179\n",
      "5     375\n",
      "6     820\n",
      "7     618\n",
      "8     561\n",
      "9      57\n",
      "10    577\n",
      "11     59\n",
      "12     73\n",
      "13    107\n",
      "14     53\n",
      "15     91\n",
      "16    893\n",
      "17    810\n",
      "18    170\n",
      "19     53\n",
      "20     68\n",
      "21      9\n",
      "22      1\n",
      "23     92\n",
      "24      9\n",
      "25      8\n",
      "26      9\n",
      "27    308\n",
      "28    447\n",
      "29    392\n",
      "30    107\n",
      "31     42\n",
      "32      4\n",
      "33     45\n",
      "34    141\n",
      "35    110\n",
      "36      3\n",
      "37    758\n",
      "38      9\n",
      "39      9\n",
      "40    388\n",
      "41    220\n",
      "42    644\n",
      "43    649\n",
      "44    499\n",
      "45      2\n",
      "46    937\n",
      "47    169\n",
      "48    286\n",
      "49      2\n",
      "dtype: int64\n"
     ]
    }
   ],
   "source": [
    "# summarize the number of unique values for each column using numpy\n",
    "\n",
    "import numpy as np\n",
    "import pandas as pd\n",
    "\n",
    "# load the dataset\n",
    "df = pd.read_csv('../Datasets/oil-spill.csv', header=None)\n",
    "print(df.shape)\n",
    "\n",
    "# summarize the number of unique values in each column\n",
    "print(df.nunique())"
   ]
  },
  {
   "cell_type": "markdown",
   "id": "40b717da-dbd8-4f71-8e3f-7d540664149d",
   "metadata": {
    "jp-MarkdownHeadingCollapsed": true
   },
   "source": [
    "#### Delete Columns That Contain a Single Value"
   ]
  },
  {
   "cell_type": "code",
   "execution_count": 2,
   "id": "0318dcb5-dd34-4932-97bc-561df7adf4ee",
   "metadata": {},
   "outputs": [
    {
     "name": "stdout",
     "output_type": "stream",
     "text": [
      "[22]\n",
      "(937, 49)\n"
     ]
    }
   ],
   "source": [
    "# record columns to delete\n",
    "to_del = [i for i, v in enumerate(df.nunique()) if v == 1]\n",
    "print(to_del)\n",
    "\n",
    "# drop useless columns\n",
    "df.drop(to_del, axis=1, inplace=True)\n",
    "print(df.shape)"
   ]
  },
  {
   "cell_type": "markdown",
   "id": "1b3faa14-1805-48b2-9e68-08bd3dcd1a35",
   "metadata": {},
   "source": [
    "#### Consider Columns That Have Very Few Values\n",
    "+ These columns may or may not contribute to the skill of a model. We can’t assume that they are useless to modeling.\n",
    "+ Although near-zero variance predictors likely contain little valuable predictive information, we may not desire to filter these out.\n",
    "+ Depending on the choice of data preparation and modeling algorithms, variables with very\n",
    "few numerical values can also cause errors or unexpected results."
   ]
  },
  {
   "cell_type": "code",
   "execution_count": 3,
   "id": "59f80ea0-bce0-4715-b0eb-9eda34d92059",
   "metadata": {},
   "outputs": [
    {
     "name": "stdout",
     "output_type": "stream",
     "text": [
      "(937, 50)\n",
      "0, 238, 25.40%\n",
      "1, 297, 31.70%\n",
      "2, 927, 98.93%\n",
      "3, 933, 99.57%\n",
      "4, 179, 19.10%\n",
      "5, 375, 40.02%\n",
      "6, 820, 87.51%\n",
      "7, 618, 65.96%\n",
      "8, 561, 59.87%\n",
      "9, 57, 6.08%\n",
      "10, 577, 61.58%\n",
      "11, 59, 6.30%\n",
      "12, 73, 7.79%\n",
      "13, 107, 11.42%\n",
      "14, 53, 5.66%\n",
      "15, 91, 9.71%\n",
      "16, 893, 95.30%\n",
      "17, 810, 86.45%\n",
      "18, 170, 18.14%\n",
      "19, 53, 5.66%\n",
      "20, 68, 7.26%\n",
      "21, 9, 0.96%\n",
      "22, 1, 0.11%\n",
      "23, 92, 9.82%\n",
      "24, 9, 0.96%\n",
      "25, 8, 0.85%\n",
      "26, 9, 0.96%\n",
      "27, 308, 32.87%\n",
      "28, 447, 47.71%\n",
      "29, 392, 41.84%\n",
      "30, 107, 11.42%\n",
      "31, 42, 4.48%\n",
      "32, 4, 0.43%\n",
      "33, 45, 4.80%\n",
      "34, 141, 15.05%\n",
      "35, 110, 11.74%\n",
      "36, 3, 0.32%\n",
      "37, 758, 80.90%\n",
      "38, 9, 0.96%\n",
      "39, 9, 0.96%\n",
      "40, 388, 41.41%\n",
      "41, 220, 23.48%\n",
      "42, 644, 68.73%\n",
      "43, 649, 69.26%\n",
      "44, 499, 53.26%\n",
      "45, 2, 0.21%\n",
      "46, 937, 100.00%\n",
      "47, 169, 18.04%\n",
      "48, 286, 30.52%\n",
      "49, 2, 0.21%\n"
     ]
    }
   ],
   "source": [
    "# summarize the number of unique values for each column using numpy\n",
    "\n",
    "import numpy as np\n",
    "import pandas as pd\n",
    "\n",
    "# load the dataset\n",
    "df = pd.read_csv('../Datasets/oil-spill.csv', header=None)\n",
    "print(df.shape)\n",
    "\n",
    "# summarize the number of unique values in each column\n",
    "counts = df.nunique()\n",
    "for i, v in enumerate(counts):\n",
    "    print('%d, %d, %.2f%%' % (i, v, v / df.shape[0] * 100))"
   ]
  },
  {
   "cell_type": "code",
   "execution_count": 4,
   "id": "5576b724-3d5b-4289-b98c-d8a41a6fdc0c",
   "metadata": {},
   "outputs": [
    {
     "name": "stdout",
     "output_type": "stream",
     "text": [
      "[21, 22, 24, 25, 26, 32, 36, 38, 39, 45, 49]\n",
      "(937, 39)\n"
     ]
    }
   ],
   "source": [
    "# record columns to delete\n",
    "to_del = [i for i, v in enumerate(counts) if (v / df.shape[0] * 100) < 1]\n",
    "print(to_del)\n",
    "\n",
    "# drop useless columns\n",
    "df.drop(to_del, axis=1, inplace=True)\n",
    "print(df.shape)"
   ]
  },
  {
   "cell_type": "markdown",
   "id": "65f762e1-d8eb-49cb-aaf3-74e625411c8b",
   "metadata": {},
   "source": [
    "#### Remove Columns That Have A Low Variance\n",
    "+ The variance can be used as a filter for identifying columns to be removed from the dataset. A column that has a single value has a variance of 0.0, and a column that has very few unique values may have a small variance."
   ]
  },
  {
   "cell_type": "code",
   "execution_count": 5,
   "id": "8ef09e69-f882-42c6-92e4-63d76ca4cdf5",
   "metadata": {},
   "outputs": [
    {
     "name": "stdout",
     "output_type": "stream",
     "text": [
      "(937, 49) (937,)\n",
      ">Threshold=0.00, Features=48\n",
      ">Threshold=0.05, Features=37\n",
      ">Threshold=0.10, Features=36\n",
      ">Threshold=0.15, Features=35\n",
      ">Threshold=0.20, Features=35\n",
      ">Threshold=0.25, Features=35\n",
      ">Threshold=0.30, Features=35\n",
      ">Threshold=0.35, Features=35\n",
      ">Threshold=0.40, Features=35\n",
      ">Threshold=0.45, Features=33\n",
      ">Threshold=0.50, Features=31\n"
     ]
    },
    {
     "data": {
      "image/png": "[encoded data removed]",
      "text/plain": [
       "<Figure size 640x480 with 1 Axes>"
      ]
     },
     "metadata": {},
     "output_type": "display_data"
    }
   ],
   "source": [
    "# explore the effect of the variance thresholds on the number of selected features\n",
    "\n",
    "import numpy as np\n",
    "import pandas as pd\n",
    "from sklearn.feature_selection import VarianceThreshold\n",
    "from matplotlib import pyplot\n",
    "\n",
    "# load the dataset\n",
    "df = pd.read_csv('../Datasets/oil-spill.csv', header=None)\n",
    "\n",
    "# split data into inputs and outputs\n",
    "data = df.values\n",
    "X = data[:, :-1]\n",
    "y = data[:, -1]\n",
    "print(X.shape, y.shape)\n",
    "\n",
    "# define thresholds to check\n",
    "thresholds = np.arange(0.0, 0.55, 0.05)\n",
    "\n",
    "# apply transform with each threshold\n",
    "results = list()\n",
    "\n",
    "for t in thresholds:\n",
    "    # define the transform\n",
    "    transform = VarianceThreshold(threshold=t)\n",
    "    \n",
    "    # transform the input data\n",
    "    X_sel = transform.fit_transform(X)\n",
    "    \n",
    "    # determine the number of input features\n",
    "    n_features = X_sel.shape[1]\n",
    "    print('>Threshold=%.2f, Features=%d' % (t, n_features))\n",
    "    \n",
    "    # store the result\n",
    "    results.append(n_features)\n",
    "    \n",
    "# plot the threshold vs the number of selected features\n",
    "pyplot.plot(thresholds, results)\n",
    "pyplot.show()"
   ]
  },
  {
   "cell_type": "markdown",
   "id": "e05fbe78-9b8e-4cd5-a848-428b268869a0",
   "metadata": {},
   "source": [
    "#### Identify Rows That Contain Duplicate Data\n",
    "+ From a probabilistic perspective, you can think of duplicate data as adjusting the priors for a class label or data distribution. This may help an algorithm like Naive Bayes if you wish to purposefully bias the priors.\n",
    "+ Typically, this is not the case and machine learning algorithms will perform better by identifying and removing rows with duplicate data.\n",
    "+ From an algorithm evaluation perspective, duplicate rows will result in misleading performance. "
   ]
  },
  {
   "cell_type": "code",
   "execution_count": 6,
   "id": "5d50c397-936a-4164-a5dd-51854826699c",
   "metadata": {},
   "outputs": [
    {
     "name": "stdout",
     "output_type": "stream",
     "text": [
      "(150, 5)\n"
     ]
    },
    {
     "data": {
      "text/html": [
       "<div>\n",
       "<style scoped>\n",
       "    .dataframe tbody tr th:only-of-type {\n",
       "        vertical-align: middle;\n",
       "    }\n",
       "\n",
       "    .dataframe tbody tr th {\n",
       "        vertical-align: top;\n",
       "    }\n",
       "\n",
       "    .dataframe thead th {\n",
       "        text-align: right;\n",
       "    }\n",
       "</style>\n",
       "<table border=\"1\" class=\"dataframe\">\n",
       "  <thead>\n",
       "    <tr style=\"text-align: right;\">\n",
       "      <th></th>\n",
       "      <th>0</th>\n",
       "      <th>1</th>\n",
       "      <th>2</th>\n",
       "      <th>3</th>\n",
       "      <th>4</th>\n",
       "    </tr>\n",
       "  </thead>\n",
       "  <tbody>\n",
       "    <tr>\n",
       "      <th>34</th>\n",
       "      <td>4.9</td>\n",
       "      <td>3.1</td>\n",
       "      <td>1.5</td>\n",
       "      <td>0.1</td>\n",
       "      <td>Iris-setosa</td>\n",
       "    </tr>\n",
       "    <tr>\n",
       "      <th>37</th>\n",
       "      <td>4.9</td>\n",
       "      <td>3.1</td>\n",
       "      <td>1.5</td>\n",
       "      <td>0.1</td>\n",
       "      <td>Iris-setosa</td>\n",
       "    </tr>\n",
       "    <tr>\n",
       "      <th>142</th>\n",
       "      <td>5.8</td>\n",
       "      <td>2.7</td>\n",
       "      <td>5.1</td>\n",
       "      <td>1.9</td>\n",
       "      <td>Iris-virginica</td>\n",
       "    </tr>\n",
       "  </tbody>\n",
       "</table>\n",
       "</div>"
      ],
      "text/plain": [
       "       0    1    2    3               4\n",
       "34   4.9  3.1  1.5  0.1     Iris-setosa\n",
       "37   4.9  3.1  1.5  0.1     Iris-setosa\n",
       "142  5.8  2.7  5.1  1.9  Iris-virginica"
      ]
     },
     "execution_count": 6,
     "metadata": {},
     "output_type": "execute_result"
    }
   ],
   "source": [
    "# locate rows of duplicate data\n",
    "\n",
    "import pandas as pd\n",
    "\n",
    "# load the dataset\n",
    "df = pd.read_csv('../Datasets/iris.csv', header=None)\n",
    "print(df.shape)\n",
    "\n",
    "# calculate duplicates\n",
    "dups = df.duplicated()\n",
    "\n",
    "# list all duplicate rows\n",
    "df[dups]"
   ]
  },
  {
   "cell_type": "markdown",
   "id": "eb7793e1-5925-406f-801f-71e3f6529259",
   "metadata": {},
   "source": [
    "#### Delete Rows That Contain Duplicate Data"
   ]
  },
  {
   "cell_type": "code",
   "execution_count": 7,
   "id": "4426f313-1906-48e4-b0ba-b5d5be61ba9e",
   "metadata": {},
   "outputs": [
    {
     "data": {
      "text/plain": [
       "(147, 5)"
      ]
     },
     "execution_count": 7,
     "metadata": {},
     "output_type": "execute_result"
    }
   ],
   "source": [
    "# delete duplicate rows\n",
    "df.drop_duplicates(inplace=True)\n",
    "df.shape"
   ]
  },
  {
   "cell_type": "markdown",
   "id": "d4f95fc5-5824-4eef-9823-a9a73d9fb1e6",
   "metadata": {
    "jp-MarkdownHeadingCollapsed": true
   },
   "source": [
    "### Chapter 6: Outlier Identification and Removal"
   ]
  },
  {
   "cell_type": "markdown",
   "id": "7d1ee7a7-7329-48ee-8db3-14c2ee774a30",
   "metadata": {
    "jp-MarkdownHeadingCollapsed": true
   },
   "source": [
    "#### Tutorial Overview\n",
    "This chapter focuses on identifying and removing outliers from a dataset. It is divided into five main sections:\n",
    "1. What are Outliers?\n",
    "2. Standard Deviation Method\n",
    "3. Interquartile Range Method\n",
    "4. Automatic Outlier Detection"
   ]
  },
  {
   "cell_type": "markdown",
   "id": "49b4bb38-d82c-4519-812c-811387dedb97",
   "metadata": {
    "jp-MarkdownHeadingCollapsed": true
   },
   "source": [
    "#### What are Outliers?\n",
    "- Outliers can have many causes, such as:\n",
    "    + Measurement or input error.\n",
    "    + Data corruption.\n",
    "    + True outlier observation.\n",
    "- A good tip is to consider plotting the identified outlier values, perhaps in the context of non-outlier values to see if there are any systematic relationship or pattern to the outliers."
   ]
  },
  {
   "cell_type": "markdown",
   "id": "eac94b19-5a8b-4924-8cd0-600946adfeb9",
   "metadata": {
    "jp-MarkdownHeadingCollapsed": true
   },
   "source": [
    "#### Standard Deviation Method\n",
    "+ If the data distribution is Gaussian, the standard deviation can be used to identify outliers. Outliers are typically defined as data points more than three standard deviations from the mean."
   ]
  },
  {
   "cell_type": "code",
   "execution_count": 8,
   "id": "fb4d0ef8-d2dd-499b-bba1-35dc31b5d0b1",
   "metadata": {},
   "outputs": [
    {
     "name": "stdout",
     "output_type": "stream",
     "text": [
      "Identified outliers: 29\n",
      "Non-outlier observations: 9971\n"
     ]
    }
   ],
   "source": [
    "# identify outliers with standard deviation\n",
    "\n",
    "import numpy as np\n",
    "import pandas as pd\n",
    "\n",
    "from numpy.random import seed\n",
    "from numpy.random import randn\n",
    "from numpy import mean\n",
    "from numpy import std\n",
    "\n",
    "# seed the random number generator\n",
    "np.random.seed(1)\n",
    "\n",
    "# generate univariate observations\n",
    "data = 5 * np.random.randn(10000) + 50\n",
    "\n",
    "# calculate summary statistics\n",
    "data_mean, data_std = np.mean(data), np.std(data)\n",
    "\n",
    "# define outliers\n",
    "cut_off = data_std * 3\n",
    "lower, upper = data_mean - cut_off, data_mean + cut_off\n",
    "\n",
    "# identify outliers\n",
    "outliers = [x for x in data if x < lower or x > upper]\n",
    "print('Identified outliers: %d' % len(outliers))\n",
    "\n",
    "# remove outliers\n",
    "outliers_removed = [x for x in data if x >= lower and x <= upper]\n",
    "print('Non-outlier observations: %d' % len(outliers_removed))"
   ]
  },
  {
   "cell_type": "markdown",
   "id": "8b08ca10-9f45-482e-8eed-fe743dff0e4f",
   "metadata": {},
   "source": [
    "+ You can use the same approach if you have multivariate data"
   ]
  },
  {
   "cell_type": "markdown",
   "id": "76f9205b-d23d-4574-84d7-d35c72a24a34",
   "metadata": {},
   "source": [
    "#### Interquartile Range Method\n",
    "+ The Interquartile Range (IQR) method is used for non-Gaussian distributions. The IQR is the difference between the 75th and 25th percentiles. Outliers are values below $Q1 - k \\times IQR$ or above $Q3 + k \\times IQR$\n",
    "+ k typically is 1.5\n",
    "+ Statistics-based outlier detection techniques assume that the normal data points would appear in high probability regions of a stochastic model, while outliers would occur in the low probability regions of a stochastic model."
   ]
  },
  {
   "cell_type": "code",
   "execution_count": 9,
   "id": "b1776b85-b057-4a90-aacb-a633ce7815fb",
   "metadata": {},
   "outputs": [
    {
     "name": "stdout",
     "output_type": "stream",
     "text": [
      "Percentiles: 25th=46.685, 75th=53.359, IQR=6.674\n",
      "Identified outliers: 81\n",
      "Non-outlier observations: 9919\n"
     ]
    }
   ],
   "source": [
    "import numpy as np\n",
    "\n",
    "# calculate interquartile range\n",
    "q25, q75 = np.percentile(data, 25), np.percentile(data, 75)\n",
    "iqr = q75 - q25\n",
    "print('Percentiles: 25th=%.3f, 75th=%.3f, IQR=%.3f' % (q25, q75, iqr))\n",
    "\n",
    "# calculate the outlier cutoff\n",
    "cut_off = iqr * 1.5\n",
    "lower, upper = q25 - cut_off, q75 + cut_off\n",
    "\n",
    "# identify outliers\n",
    "outliers = [x for x in data if x < lower or x > upper]\n",
    "print('Identified outliers: %d' % len(outliers))\n",
    "\n",
    "# remove outliers\n",
    "outliers_removed = [x for x in data if x >= lower and x <= upper]\n",
    "print('Non-outlier observations: %d' % len(outliers_removed))"
   ]
  },
  {
   "cell_type": "markdown",
   "id": "121cf2d2-c838-4c9d-9932-5f8eb448d549",
   "metadata": {},
   "source": [
    "+ The approach can be used for multivariate data by calculating the limits on each variable in the dataset in turn, and taking outliers as observations that fall outside of the rectangle or hyper-rectangle."
   ]
  },
  {
   "cell_type": "markdown",
   "id": "12089c4e-5d1e-443e-b35a-d347bba588ef",
   "metadata": {},
   "source": [
    "#### Automatic Outlier Detection\n",
    "+ A simple approach to identifying outliers is to locate those examples that are far from the other examples in the multi-dimensional feature space.\n",
    "+ This can work well for feature spaces with low dimensionality (few features), although it can become less reliable as the number of\n",
    "features is increased.\n",
    "+ The local outlier factor, or LOF for short, is a technique that attempts to harness the idea of nearest neighbors for outlier\n",
    "detection. Each example is assigned a scoring of how isolated or how likely it is to be outliers\n",
    "based on the size of its local neighborhood. Those examples with the largest score are more\n",
    "likely to be outliers."
   ]
  },
  {
   "cell_type": "code",
   "execution_count": 10,
   "id": "38735d22-d690-4bd9-87e9-17843c273155",
   "metadata": {},
   "outputs": [
    {
     "name": "stdout",
     "output_type": "stream",
     "text": [
      "MAE: 3.356\n"
     ]
    }
   ],
   "source": [
    "import pandas as pd\n",
    "from sklearn.model_selection import train_test_split\n",
    "from sklearn.neighbors import LocalOutlierFactor\n",
    "from sklearn.linear_model import LinearRegression\n",
    "from sklearn.metrics import mean_absolute_error\n",
    "\n",
    "# load the dataset\n",
    "df = pd.read_csv('../Datasets/housing.csv', header=None)\n",
    "data = df.values\n",
    "X, y = data[:, :-1], data[:, -1]\n",
    "\n",
    "# split into train and test sets\n",
    "X_train, X_test, y_train, y_test = train_test_split(X, y, test_size=0.33, random_state=1)\n",
    "\n",
    "# identify outliers in the training dataset\n",
    "lof = LocalOutlierFactor()\n",
    "yhat = lof.fit_predict(X_train)\n",
    "\n",
    "# select all rows that are not outliers\n",
    "mask = yhat != -1\n",
    "X_train, y_train = X_train[mask, :], y_train[mask]\n",
    "\n",
    "# fit the model\n",
    "model = LinearRegression()\n",
    "model.fit(X_train, y_train)\n",
    "\n",
    "# evaluate the model\n",
    "yhat = model.predict(X_test)\n",
    "mae = mean_absolute_error(y_test, yhat)\n",
    "print('MAE: %.3f' % mae)\n"
   ]
  },
  {
   "cell_type": "markdown",
   "id": "96333f58-079b-4d3b-9b7b-2b48968654f5",
   "metadata": {
    "jp-MarkdownHeadingCollapsed": true
   },
   "source": [
    "### Chapter 7: How to Mark and Remove Missing Data"
   ]
  },
  {
   "cell_type": "markdown",
   "id": "137eb8c7-f378-4ae1-964f-42edc662c4fb",
   "metadata": {},
   "source": [
    "#### Tutorial Overview\n",
    "This chapter focuses on handling missing data in machine learning datasets. It covers the following main parts:\n",
    "1. Mark Missing Values\n",
    "2. Missing Values Cause Problems\n",
    "3. Remove Rows With Missing Values\n"
   ]
  },
  {
   "cell_type": "markdown",
   "id": "dc3d2af9-8fdc-4bdd-b52f-feb13ef99f0b",
   "metadata": {},
   "source": [
    "#### Mark Missing Values\n",
    "+ Most data has missing values, and the likelihood of having missing values increases with the size of the dataset.\n",
    "+ Missing values are frequently indicated by out-of-range entries.\n",
    "+ When a predictor is discrete in nature, missingness can be directly encoded into the predictor as if it were a naturally occurring category.\n",
    "+ Missing Values can have many causes, such as:\n",
    "    + often specific to the problem domain\n",
    "    + corrupt measurements\n",
    "    + data unavailability\n",
    "    + changes in experimental design during data collection\n",
    "    + collation of several similar but not identical datasets\n"
   ]
  },
  {
   "cell_type": "code",
   "execution_count": 11,
   "id": "de1cf226-bb3c-424d-b355-473483baae7e",
   "metadata": {},
   "outputs": [
    {
     "name": "stdout",
     "output_type": "stream",
     "text": [
      "     0      1     2     3      4     5      6   7  8\n",
      "0    6  148.0  72.0  35.0    NaN  33.6  0.627  50  1\n",
      "1    1   85.0  66.0  29.0    NaN  26.6  0.351  31  0\n",
      "2    8  183.0  64.0   NaN    NaN  23.3  0.672  32  1\n",
      "3    1   89.0  66.0  23.0   94.0  28.1  0.167  21  0\n",
      "4    0  137.0  40.0  35.0  168.0  43.1  2.288  33  1\n",
      "5    5  116.0  74.0   NaN    NaN  25.6  0.201  30  0\n",
      "6    3   78.0  50.0  32.0   88.0  31.0  0.248  26  1\n",
      "7   10  115.0   NaN   NaN    NaN  35.3  0.134  29  0\n",
      "8    2  197.0  70.0  45.0  543.0  30.5  0.158  53  1\n",
      "9    8  125.0  96.0   NaN    NaN   NaN  0.232  54  1\n",
      "10   4  110.0  92.0   NaN    NaN  37.6  0.191  30  0\n",
      "11  10  168.0  74.0   NaN    NaN  38.0  0.537  34  1\n",
      "12  10  139.0  80.0   NaN    NaN  27.1  1.441  57  0\n",
      "13   1  189.0  60.0  23.0  846.0  30.1  0.398  59  1\n",
      "14   5  166.0  72.0  19.0  175.0  25.8  0.587  51  1\n",
      "15   7  100.0   NaN   NaN    NaN  30.0  0.484  32  1\n",
      "16   0  118.0  84.0  47.0  230.0  45.8  0.551  31  1\n",
      "17   7  107.0  74.0   NaN    NaN  29.6  0.254  31  1\n",
      "18   1  103.0  30.0  38.0   83.0  43.3  0.183  33  0\n",
      "19   1  115.0  70.0  30.0   96.0  34.6  0.529  32  1\n"
     ]
    }
   ],
   "source": [
    "# example of review data with missing values marked with a nan\n",
    "\n",
    "import numpy as np\n",
    "import pandas as pd\n",
    "\n",
    "# load the dataset\n",
    "dataset = pd.read_csv('../Datasets/pima-indians-diabetes.csv', header=None)\n",
    "\n",
    "# replace '0' values with 'nan'\n",
    "dataset[[1,2,3,4,5]] = dataset[[1,2,3,4,5]].replace(0, np.nan)\n",
    "\n",
    "# summarize the first 20 rows of data\n",
    "print(dataset.head(20))"
   ]
  },
  {
   "cell_type": "markdown",
   "id": "45fb7011-dc01-4808-a979-d435399b2bb8",
   "metadata": {},
   "source": [
    "#### Missing Values Cause Problems\n",
    "+ Missing values in a dataset can cause errors with some machine learning algorithms. For instance, the Linear Discriminant Analysis (LDA) algorithm cannot handle missing values.\n",
    "+ Many popular predictive models such as support vector machines, the glmnet, and neural networks, cannot tolerate any amount of missing values."
   ]
  },
  {
   "cell_type": "markdown",
   "id": "38fcd435-d8bc-44f1-8919-8f7fc6a5fe2e",
   "metadata": {},
   "source": [
    "#### Remove Rows With Missing Values\n",
    "+ The simplest approach for dealing with missing values is to remove entire predictor(s) and/or sample(s) that contain missing values"
   ]
  },
  {
   "cell_type": "code",
   "execution_count": 12,
   "id": "9201dae9-81f2-4674-a7c1-8f0a6f78bbb2",
   "metadata": {},
   "outputs": [
    {
     "name": "stdout",
     "output_type": "stream",
     "text": [
      "(768, 9)\n",
      "(392, 9)\n"
     ]
    }
   ],
   "source": [
    "# example of removing rows that contain missing values\n",
    "\n",
    "import numpy as np\n",
    "import pandas as pd\n",
    "\n",
    "# load the dataset\n",
    "dataset = pd.read_csv('../Datasets/pima-indians-diabetes.csv', header=None)\n",
    "\n",
    "# summarize the shape of the raw data\n",
    "print(dataset.shape)\n",
    "\n",
    "# replace '0' values with 'nan'\n",
    "dataset[[1,2,3,4,5]] = dataset[[1,2,3,4,5]].replace(0, np.nan)\n",
    "\n",
    "# drop rows with missing values\n",
    "dataset.dropna(inplace=True)\n",
    "\n",
    "# summarize the shape of the data with missing rows removed\n",
    "print(dataset.shape)"
   ]
  },
  {
   "cell_type": "markdown",
   "id": "4439fb92-0e9d-44d7-9314-1cfddf088b01",
   "metadata": {},
   "source": [
    "+ Removing rows with missing values can be too limiting on some predictive modeling problems, an alternative is to impute missing values."
   ]
  },
  {
   "cell_type": "markdown",
   "id": "ef08dac4-c3ec-4ee5-8a1f-28d08cfc4416",
   "metadata": {
    "jp-MarkdownHeadingCollapsed": true
   },
   "source": [
    "### Chapter 8: How to Use Statistical Imputation"
   ]
  },
  {
   "cell_type": "markdown",
   "id": "c6f97e19-0ebc-4417-91a2-aa9dbbf8141c",
   "metadata": {
    "jp-MarkdownHeadingCollapsed": true
   },
   "source": [
    "#### Tutorial Overview\n",
    "This tutorial is divided into three main parts:\n",
    "+ Statistical Imputation\n",
    "+ Statistical Imputation With SimpleImputer"
   ]
  },
  {
   "cell_type": "markdown",
   "id": "0aa6e9cd-e6b9-4aff-998a-a85065797647",
   "metadata": {},
   "source": [
    "#### Statistical Imputation\n",
    "+ Statistical imputation involves using simple statistical techniques to estimate missing values.\n",
    "+ Common techniques include:\n",
    "    + Mean: Filling missing values with the mean of the column.\n",
    "    + Median: Filling missing values with the median of the column.\n",
    "    + Mode: Filling missing values with the most frequent value of the column.\n",
    "    + Constant: Filling missing values with a fixed value."
   ]
  },
  {
   "cell_type": "code",
   "execution_count": 13,
   "id": "cc2ae363-c754-4eb0-9d07-88cca379ceeb",
   "metadata": {},
   "outputs": [
    {
     "name": "stdout",
     "output_type": "stream",
     "text": [
      "> 0, Missing: 1 (0.3%)\n",
      "> 1, Missing: 0 (0.0%)\n",
      "> 2, Missing: 0 (0.0%)\n",
      "> 3, Missing: 60 (20.0%)\n",
      "> 4, Missing: 24 (8.0%)\n",
      "> 5, Missing: 58 (19.3%)\n",
      "> 6, Missing: 56 (18.7%)\n",
      "> 7, Missing: 69 (23.0%)\n",
      "> 8, Missing: 47 (15.7%)\n",
      "> 9, Missing: 32 (10.7%)\n",
      "> 10, Missing: 55 (18.3%)\n",
      "> 11, Missing: 44 (14.7%)\n",
      "> 12, Missing: 56 (18.7%)\n",
      "> 13, Missing: 104 (34.7%)\n",
      "> 14, Missing: 106 (35.3%)\n",
      "> 15, Missing: 247 (82.3%)\n",
      "> 16, Missing: 102 (34.0%)\n",
      "> 17, Missing: 118 (39.3%)\n",
      "> 18, Missing: 29 (9.7%)\n",
      "> 19, Missing: 33 (11.0%)\n",
      "> 20, Missing: 165 (55.0%)\n",
      "> 21, Missing: 198 (66.0%)\n",
      "> 22, Missing: 1 (0.3%)\n",
      "> 23, Missing: 0 (0.0%)\n",
      "> 24, Missing: 0 (0.0%)\n",
      "> 25, Missing: 0 (0.0%)\n",
      "> 26, Missing: 0 (0.0%)\n",
      "> 27, Missing: 0 (0.0%)\n"
     ]
    }
   ],
   "source": [
    "# summarize the horse colic dataset\n",
    "\n",
    "import pandas as pd\n",
    "\n",
    "# load dataset\n",
    "dataframe = pd.read_csv('../Datasets/horse-colic.csv', header=None, na_values='?')\n",
    "\n",
    "# summarize the number of rows with missing values for each column\n",
    "for i in range(dataframe.shape[1]):\n",
    "    # count number of rows with missing values\n",
    "    n_miss = dataframe[[i]].isnull().sum()\n",
    "    perc = n_miss / dataframe.shape[0] * 100\n",
    "    print('> %d, Missing: %d (%.1f%%)' % (i, int(n_miss.iloc[0]), float(perc.iloc[0])))"
   ]
  },
  {
   "cell_type": "markdown",
   "id": "38e82f85-88ae-4169-aec9-82207e6f1c45",
   "metadata": {},
   "source": [
    "#### Statistical Imputation With SimpleImputer\n",
    "+ The scikit-learn machine learning library provides the SimpleImputer class that supports statistical imputation."
   ]
  },
  {
   "cell_type": "markdown",
   "id": "01b2dad9-b435-4c1e-89b2-b4a596192d85",
   "metadata": {},
   "source": [
    "+ SimpleImputer Data Transform"
   ]
  },
  {
   "cell_type": "code",
   "execution_count": 14,
   "id": "c27d5ab6-c0c9-4614-afb7-43ed12746659",
   "metadata": {},
   "outputs": [
    {
     "name": "stdout",
     "output_type": "stream",
     "text": [
      "Missing: 1605\n",
      "Missing: 0\n"
     ]
    }
   ],
   "source": [
    "# statistical imputation transform for the horse colic dataset\n",
    "\n",
    "import numpy as np\n",
    "import pandas as pd\n",
    "from sklearn.impute import SimpleImputer\n",
    "\n",
    "# load dataset\n",
    "dataframe = pd.read_csv('../Datasets/horse-colic.csv', header=None, na_values='?')\n",
    "\n",
    "# split into input and output elements\n",
    "data = dataframe.values\n",
    "ix = [i for i in range(data.shape[1]) if i != 23]\n",
    "X, y = data[:, ix], data[:, 23]\n",
    "\n",
    "# summarize total missing\n",
    "print('Missing: %d' % sum(np.isnan(X).flatten()))\n",
    "\n",
    "# define imputer\n",
    "imputer = SimpleImputer(strategy='mean')\n",
    "\n",
    "# fit on the dataset\n",
    "imputer.fit(X)\n",
    "\n",
    "# transform the dataset\n",
    "Xtrans = imputer.transform(X)\n",
    "\n",
    "# summarize total missing\n",
    "print('Missing: %d' % sum(np.isnan(Xtrans).flatten()))"
   ]
  },
  {
   "cell_type": "markdown",
   "id": "006caabf-e4da-433a-92dc-c8265b95feb1",
   "metadata": {},
   "source": [
    "+ SimpleImputer and Model Evaluation"
   ]
  },
  {
   "cell_type": "code",
   "execution_count": 15,
   "id": "b206433a-3bde-4f3e-b566-a43e88f8db38",
   "metadata": {},
   "outputs": [
    {
     "name": "stdout",
     "output_type": "stream",
     "text": [
      "Mean Accuracy: 0.866 (0.051)\n"
     ]
    }
   ],
   "source": [
    "# evaluate mean imputation and random forest for the horse colic dataset\n",
    "\n",
    "import numpy as np\n",
    "import pandas as pd\n",
    "from sklearn.ensemble import RandomForestClassifier\n",
    "from sklearn.impute import SimpleImputer\n",
    "from sklearn.model_selection import cross_val_score\n",
    "from sklearn.model_selection import RepeatedStratifiedKFold\n",
    "from sklearn.pipeline import Pipeline\n",
    "\n",
    "# load dataset\n",
    "dataframe = pd.read_csv('../Datasets/horse-colic.csv', header=None, na_values='?')\n",
    "\n",
    "# split into input and output elements\n",
    "data = dataframe.values\n",
    "ix = [i for i in range(data.shape[1]) if i != 23]\n",
    "X, y = data[:, ix], data[:, 23]\n",
    "\n",
    "# define modeling pipeline\n",
    "model = RandomForestClassifier()\n",
    "imputer = SimpleImputer(strategy='mean')\n",
    "pipeline = Pipeline(steps=[('i', imputer), ('m', model)])\n",
    "\n",
    "# define model evaluation\n",
    "cv = RepeatedStratifiedKFold(n_splits=10, n_repeats=3, random_state=1)\n",
    "\n",
    "# evaluate model\n",
    "scores = cross_val_score(pipeline, X, y, scoring='accuracy', cv=cv, n_jobs=-1)\n",
    "print('Mean Accuracy: %.3f (%.3f)' % (np.mean(scores), np.std(scores)))"
   ]
  },
  {
   "cell_type": "markdown",
   "id": "2a3500df-75a4-4f66-8ed2-d0540ce9c1ce",
   "metadata": {},
   "source": [
    "+ Comparing Different Imputed Statistics"
   ]
  },
  {
   "cell_type": "code",
   "execution_count": 16,
   "id": "6c899fa4-332b-49dc-a278-1ce7c319490a",
   "metadata": {},
   "outputs": [
    {
     "name": "stdout",
     "output_type": "stream",
     "text": [
      ">mean 0.862 (0.046)\n",
      ">median 0.870 (0.056)\n",
      ">most_frequent 0.870 (0.055)\n",
      ">constant 0.871 (0.049)\n"
     ]
    },
    {
     "data": {
      "image/png": "[encoded data removed]",
      "text/plain": [
       "<Figure size 640x480 with 1 Axes>"
      ]
     },
     "metadata": {},
     "output_type": "display_data"
    }
   ],
   "source": [
    "# compare statistical imputation strategies for the horse colic dataset\n",
    "\n",
    "import numpy as np\n",
    "import pandas as pd\n",
    "from sklearn.ensemble import RandomForestClassifier\n",
    "from sklearn.impute import SimpleImputer\n",
    "from sklearn.model_selection import cross_val_score\n",
    "from sklearn.model_selection import RepeatedStratifiedKFold\n",
    "from sklearn.pipeline import Pipeline\n",
    "from matplotlib import pyplot\n",
    "\n",
    "# load dataset\n",
    "dataframe = pd.read_csv('../Datasets/horse-colic.csv', header=None, na_values='?')\n",
    "\n",
    "# split into input and output elements\n",
    "data = dataframe.values\n",
    "ix = [i for i in range(data.shape[1]) if i != 23]\n",
    "X, y = data[:, ix], data[:, 23]\n",
    "\n",
    "# evaluate each strategy on the dataset\n",
    "results = list()\n",
    "strategies = ['mean', 'median', 'most_frequent', 'constant']\n",
    "\n",
    "for s in strategies:\n",
    "    # create the modeling pipeline\n",
    "    pipeline = Pipeline(steps=[('i', SimpleImputer(strategy=s)), ('m', RandomForestClassifier())])\n",
    "    \n",
    "    # evaluate the model\n",
    "    cv = RepeatedStratifiedKFold(n_splits=10, n_repeats=3, random_state=1)\n",
    "    scores = cross_val_score(pipeline, X, y, scoring='accuracy', cv=cv, n_jobs=-1)\n",
    "    \n",
    "    # store results\n",
    "    results.append(scores)\n",
    "    print('>%s %.3f (%.3f)' % (s, np.mean(scores), np.std(scores)))\n",
    "    \n",
    "# plot model performance for comparison\n",
    "pyplot.boxplot(results, labels=strategies, showmeans=True)\n",
    "pyplot.show()"
   ]
  },
  {
   "cell_type": "markdown",
   "id": "7a660939-45aa-4d91-b883-166b42632ab3",
   "metadata": {},
   "source": [
    "+ SimpleImputer Transform When Making a Prediction"
   ]
  },
  {
   "cell_type": "code",
   "execution_count": 17,
   "id": "faa6b402-3609-4d2a-8dfc-93de98ec4909",
   "metadata": {},
   "outputs": [
    {
     "name": "stdout",
     "output_type": "stream",
     "text": [
      "Predicted Class: 2\n"
     ]
    }
   ],
   "source": [
    "# constant imputation strategy and prediction for the horse colic dataset\n",
    "\n",
    "import numpy as np\n",
    "import pandas as pd\n",
    "from sklearn.ensemble import RandomForestClassifier\n",
    "from sklearn.impute import SimpleImputer\n",
    "from sklearn.pipeline import Pipeline\n",
    "\n",
    "# load dataset\n",
    "dataframe = pd.read_csv('../Datasets/horse-colic.csv', header=None, na_values='?')\n",
    "\n",
    "# split into input and output elements\n",
    "data = dataframe.values\n",
    "ix = [i for i in range(data.shape[1]) if i != 23]\n",
    "X, y = data[:, ix], data[:, 23]\n",
    "\n",
    "# create the modeling pipeline\n",
    "pipeline = Pipeline(steps=[('i', SimpleImputer(strategy='constant')), ('m', RandomForestClassifier())])\n",
    "\n",
    "# fit the model\n",
    "pipeline.fit(X, y)\n",
    "\n",
    "# define new data\n",
    "row = [2, 1, 530101, 38.50, 66, 28, 3, 3, np.nan, 2, 5, 4, 4, np.nan, np.nan, np.nan, 3, 5, 45.00,\n",
    "8.40, np.nan, np.nan, 2, 11300, 00000, 00000, 2]\n",
    "\n",
    "# make a prediction\n",
    "yhat = pipeline.predict([row])\n",
    "\n",
    "# summarize prediction\n",
    "print('Predicted Class: %d' % yhat[0])"
   ]
  },
  {
   "cell_type": "markdown",
   "id": "b69d2e30-6e0d-49d9-a442-23c6bf36bc88",
   "metadata": {
    "jp-MarkdownHeadingCollapsed": true
   },
   "source": [
    "### Chapter 9: How to Use KNN Imputation"
   ]
  },
  {
   "cell_type": "markdown",
   "id": "6f6f590c-7ca0-4d89-a804-f7d6d1a2b113",
   "metadata": {},
   "source": [
    "#### Tutorial Overview\n",
    "This tutorial is divided into three parts:\n",
    "\n",
    "+ k-Nearest Neighbor Imputation\n",
    "+ Nearest Neighbor Imputation With KNNImputer"
   ]
  },
  {
   "cell_type": "markdown",
   "id": "99cb7fc0-41c3-4ac6-a25e-25bea8df8fe0",
   "metadata": {},
   "source": [
    "#### k-Nearest Neighbor Imputation\n",
    "+ An effective approach to data imputing is to use a model to predict the missing values.\n",
    "+ A model (KNN) is created for each feature that has missing values, taking as input values of perhaps all other input features.\n",
    "+  A new sample is imputed by finding the samples in the training set “closest” to it and averages these nearby points to fill in the value.\n",
    "+  Configuration of KNN imputation often involves selecting the distance measure (e.g. Euclidean) and the number of contributing neighbors for each prediction.  "
   ]
  },
  {
   "cell_type": "markdown",
   "id": "5bf62e67-048f-4395-b34d-824173c23572",
   "metadata": {},
   "source": [
    "#### Nearest Neighbor Imputation with KNNImputer"
   ]
  },
  {
   "cell_type": "markdown",
   "id": "d26d43e8-8092-47ac-a04d-220d8f8dd04a",
   "metadata": {},
   "source": [
    "+ KNNImputer Data Transform\n",
    "    +  The default distance measure is a Euclidean distance measure that is NaN aware"
   ]
  },
  {
   "cell_type": "code",
   "execution_count": 18,
   "id": "237cf454-ef07-46af-a5be-9f7015b63b98",
   "metadata": {},
   "outputs": [
    {
     "name": "stdout",
     "output_type": "stream",
     "text": [
      "Missing: 1605\n",
      "Missing: 0\n"
     ]
    }
   ],
   "source": [
    "# knn imputation transform for the horse colic dataset\n",
    "\n",
    "import numpy as np\n",
    "import pandas as pd\n",
    "from sklearn.impute import KNNImputer\n",
    "\n",
    "# load dataset\n",
    "dataframe = pd.read_csv('../Datasets/horse-colic.csv', header=None, na_values='?')\n",
    "\n",
    "# split into input and output elements\n",
    "data = dataframe.values\n",
    "ix = [i for i in range(data.shape[1]) if i != 23]\n",
    "X, y = data[:, ix], data[:, 23]\n",
    "\n",
    "# summarize total missing\n",
    "print('Missing: %d' % sum(np.isnan(X).flatten()))\n",
    "\n",
    "# define imputer\n",
    "imputer = KNNImputer()\n",
    "\n",
    "# fit on the dataset\n",
    "imputer.fit(X)\n",
    "\n",
    "# transform the dataset\n",
    "Xtrans = imputer.transform(X)\n",
    "\n",
    "# summarize total missing\n",
    "print('Missing: %d' % sum(np.isnan(Xtrans).flatten()))"
   ]
  },
  {
   "cell_type": "markdown",
   "id": "a5190292-8524-4bba-8977-ecfe87ab9271",
   "metadata": {},
   "source": [
    "+ KNNImputer and Model Evaluation"
   ]
  },
  {
   "cell_type": "code",
   "execution_count": 19,
   "id": "daa81312-21db-49eb-9527-1fd4e4f5e842",
   "metadata": {},
   "outputs": [
    {
     "name": "stdout",
     "output_type": "stream",
     "text": [
      "Mean Accuracy: 0.861 (0.055)\n"
     ]
    }
   ],
   "source": [
    "# evaluate knn imputation and random forest for the horse colic dataset\n",
    "\n",
    "import numpy as np\n",
    "import pandas as pd\n",
    "from sklearn.ensemble import RandomForestClassifier\n",
    "from sklearn.impute import KNNImputer\n",
    "from sklearn.model_selection import cross_val_score\n",
    "from sklearn.model_selection import RepeatedStratifiedKFold\n",
    "from sklearn.pipeline import Pipeline\n",
    "\n",
    "# load dataset\n",
    "dataframe = pd.read_csv('../Datasets/horse-colic.csv', header=None, na_values='?')\n",
    "\n",
    "# split into input and output elements\n",
    "data = dataframe.values\n",
    "ix = [i for i in range(data.shape[1]) if i != 23]\n",
    "X, y = data[:, ix], data[:, 23]\n",
    "\n",
    "# define modeling pipeline\n",
    "model = RandomForestClassifier()\n",
    "imputer = KNNImputer()\n",
    "pipeline = Pipeline(steps=[('i', imputer), ('m', model)])\n",
    "\n",
    "# define model evaluation\n",
    "cv = RepeatedStratifiedKFold(n_splits=10, n_repeats=3, random_state=1)\n",
    "\n",
    "# evaluate model\n",
    "scores = cross_val_score(pipeline, X, y, scoring='accuracy', cv=cv, n_jobs=-1)\n",
    "print('Mean Accuracy: %.3f (%.3f)' % (np.mean(scores), np.std(scores)))"
   ]
  },
  {
   "cell_type": "markdown",
   "id": "162b58b1-f12b-41d6-81c5-229f4275382b",
   "metadata": {},
   "source": [
    "+ KNNImputer and Different Number of Neighbors\n",
    "    + It is good practice to test a suite of different values for k.  "
   ]
  },
  {
   "cell_type": "code",
   "execution_count": 20,
   "id": "e4c01d9e-f63f-48f8-b775-02de1c9ddfca",
   "metadata": {},
   "outputs": [
    {
     "name": "stdout",
     "output_type": "stream",
     "text": [
      ">1 0.863 (0.057)\n",
      ">3 0.860 (0.058)\n",
      ">5 0.860 (0.057)\n",
      ">7 0.862 (0.054)\n",
      ">9 0.858 (0.059)\n",
      ">15 0.867 (0.056)\n",
      ">18 0.857 (0.060)\n",
      ">21 0.853 (0.058)\n"
     ]
    },
    {
     "data": {
      "image/png": "[encoded data removed]",
      "text/plain": [
       "<Figure size 640x480 with 1 Axes>"
      ]
     },
     "metadata": {},
     "output_type": "display_data"
    }
   ],
   "source": [
    "# compare knn imputation strategies for the horse colic dataset\n",
    "\n",
    "import numpy as np\n",
    "import pandas as pd\n",
    "from sklearn.ensemble import RandomForestClassifier\n",
    "from sklearn.impute import KNNImputer\n",
    "from sklearn.model_selection import cross_val_score\n",
    "from sklearn.model_selection import RepeatedStratifiedKFold\n",
    "from sklearn.pipeline import Pipeline\n",
    "from matplotlib import pyplot\n",
    "\n",
    "# load dataset\n",
    "dataframe = pd.read_csv('../Datasets/horse-colic.csv', header=None, na_values='?')\n",
    "\n",
    "# split into input and output elements\n",
    "data = dataframe.values\n",
    "ix = [i for i in range(data.shape[1]) if i != 23]\n",
    "X, y = data[:, ix], data[:, 23]\n",
    "\n",
    "# evaluate each strategy on the dataset\n",
    "results = list()\n",
    "strategies = [str(i) for i in [1, 3, 5, 7, 9, 15, 18, 21]]\n",
    "for s in strategies:\n",
    "    # create the modeling pipeline\n",
    "    pipeline = Pipeline(steps=[('i', KNNImputer(n_neighbors=int(s))), ('m', RandomForestClassifier())])\n",
    "    \n",
    "    # evaluate the model\n",
    "    cv = RepeatedStratifiedKFold(n_splits=10, n_repeats=3, random_state=1)\n",
    "    scores = cross_val_score(pipeline, X, y, scoring='accuracy', cv=cv, n_jobs=-1)\n",
    "    \n",
    "    # store results\n",
    "    results.append(scores)\n",
    "    print('>%s %.3f (%.3f)' % (s, np.mean(scores), np.std(scores)))\n",
    "    \n",
    "# plot model performance for comparison\n",
    "pyplot.boxplot(results, labels=strategies, showmeans=True)\n",
    "pyplot.show()"
   ]
  },
  {
   "cell_type": "markdown",
   "id": "8514ba8d-877e-4fe5-a4c7-c6cf1674088a",
   "metadata": {},
   "source": [
    "+ KNNImputer Transform When Making a Prediction"
   ]
  },
  {
   "cell_type": "code",
   "execution_count": 21,
   "id": "755c8f95-39a9-4d7b-ad48-14013e6987c1",
   "metadata": {},
   "outputs": [
    {
     "name": "stdout",
     "output_type": "stream",
     "text": [
      "Predicted Class: 2\n"
     ]
    }
   ],
   "source": [
    "# knn imputation strategy and prediction for the horse colic dataset\n",
    "\n",
    "import numpy as np\n",
    "import pandas as pd\n",
    "from sklearn.ensemble import RandomForestClassifier\n",
    "from sklearn.impute import KNNImputer\n",
    "from sklearn.pipeline import Pipeline\n",
    "\n",
    "# load dataset\n",
    "dataframe = pd.read_csv('../Datasets/horse-colic.csv', header=None, na_values='?')\n",
    "\n",
    "# split into input and output elements\n",
    "data = dataframe.values\n",
    "ix = [i for i in range(data.shape[1]) if i != 23]\n",
    "X, y = data[:, ix], data[:, 23]\n",
    "\n",
    "# create the modeling pipeline\n",
    "pipeline = Pipeline(steps=[('i', KNNImputer(n_neighbors=21)), ('m', RandomForestClassifier())])\n",
    "\n",
    "# fit the model\n",
    "pipeline.fit(X, y)\n",
    "\n",
    "# define new data\n",
    "row = [2, 1, 530101, 38.50, 66, 28, 3, 3, np.nan, 2, 5, 4, 4, np.nan, np.nan, np.nan, 3, 5, 45.00,\n",
    "8.40, np.nan, np.nan, 2, 11300, 00000, 00000, 2]\n",
    "\n",
    "# make a prediction\n",
    "yhat = pipeline.predict([row])\n",
    "\n",
    "# summarize prediction\n",
    "print('Predicted Class: %d' % yhat[0])"
   ]
  },
  {
   "cell_type": "markdown",
   "id": "b3bfe1f1-2aab-40d1-a61f-71ddde10d4af",
   "metadata": {
    "jp-MarkdownHeadingCollapsed": true
   },
   "source": [
    "### Chapter 10: How to Use Iterative Imputation"
   ]
  },
  {
   "cell_type": "markdown",
   "id": "84c606bf-7eb8-4c14-ae36-f99800b6e46e",
   "metadata": {},
   "source": [
    "#### Tutorial Overview\n",
    "The chapter is structured into three main parts:\n",
    "\n",
    "+ Iterative Imputation\n",
    "+ Iterative Imputation with IterativeImputer"
   ]
  },
  {
   "cell_type": "markdown",
   "id": "ea9789f8-1295-4d0e-bde8-bdfde94c71a9",
   "metadata": {},
   "source": [
    "#### Iterative Imputation\n",
    "+ Iterative imputation models each feature with missing values as a function of other features in a regression-like manner. The process is repeated multiple times, allowing the imputed values to be refined iteratively.\n",
    "+ Methodology:\n",
    "    + Start with an initial imputation, such as mean imputation.\n",
    "    + Use the initial imputed values to build a model to predict the missing values.\n",
    "    + Iterate this process multiple times to refine the imputed values.\n",
    "+ This approach can also be referred to as Fully Conditional Specification (FCS) or Multivariate Imputation by Chained Equations (MICE). A low number of iterations (10-20) is often sufficient."
   ]
  },
  {
   "cell_type": "markdown",
   "id": "7891a49a-0066-4a78-bc73-4f3d24593289",
   "metadata": {},
   "source": [
    "#### Iterative Imputation With IterativeImputer"
   ]
  },
  {
   "cell_type": "markdown",
   "id": "aa575762-debc-436d-b2da-6b386711000d",
   "metadata": {},
   "source": [
    "+ IterativeImputer Data Transform"
   ]
  },
  {
   "cell_type": "code",
   "execution_count": 22,
   "id": "b601bfd6-d573-4be7-b004-376fa22a7d55",
   "metadata": {},
   "outputs": [
    {
     "name": "stdout",
     "output_type": "stream",
     "text": [
      "Missing: 1605\n",
      "Missing: 0\n"
     ]
    }
   ],
   "source": [
    "# iterative imputation transform for the horse colic dataset\n",
    "\n",
    "import numpy as np\n",
    "import pandas as pd\n",
    "from sklearn.experimental import enable_iterative_imputer\n",
    "from sklearn.impute import IterativeImputer\n",
    "\n",
    "# load dataset\n",
    "dataframe = pd.read_csv('../Datasets/horse-colic.csv', header=None, na_values='?')\n",
    "\n",
    "# split into input and output elements\n",
    "data = dataframe.values\n",
    "ix = [i for i in range(data.shape[1]) if i != 23]\n",
    "X, y = data[:, ix], data[:, 23]\n",
    "\n",
    "# summarize total missing\n",
    "print('Missing: %d' % sum(np.isnan(X).flatten()))\n",
    "\n",
    "# define imputer\n",
    "imputer = IterativeImputer()\n",
    "\n",
    "# fit on the dataset\n",
    "imputer.fit(X)\n",
    "\n",
    "# transform the dataset\n",
    "Xtrans = imputer.transform(X)\n",
    "\n",
    "# summarize total missing\n",
    "print('Missing: %d' % sum(np.isnan(Xtrans).flatten()))"
   ]
  },
  {
   "cell_type": "markdown",
   "id": "efda786b-d82a-4608-9497-cac377b9b941",
   "metadata": {},
   "source": [
    "#### IterativeImputer and Model Evaluation"
   ]
  },
  {
   "cell_type": "code",
   "execution_count": 23,
   "id": "271a4b1c-9225-4318-9ec8-1490399e9b36",
   "metadata": {},
   "outputs": [
    {
     "name": "stdout",
     "output_type": "stream",
     "text": [
      "Mean Accuracy: 0.872 (0.054)\n"
     ]
    }
   ],
   "source": [
    "# evaluate iterative imputation and random forest for the horse colic dataset\n",
    "\n",
    "import numpy as np\n",
    "import pandas as pd\n",
    "from sklearn.ensemble import RandomForestClassifier\n",
    "from sklearn.experimental import enable_iterative_imputer\n",
    "from sklearn.impute import IterativeImputer\n",
    "from sklearn.model_selection import cross_val_score\n",
    "from sklearn.model_selection import RepeatedStratifiedKFold\n",
    "from sklearn.pipeline import Pipeline\n",
    "\n",
    "# load dataset\n",
    "dataframe = pd.read_csv('../Datasets/horse-colic.csv', header=None, na_values='?')\n",
    "\n",
    "# split into input and output elements\n",
    "data = dataframe.values\n",
    "ix = [i for i in range(data.shape[1]) if i != 23]\n",
    "X, y = data[:, ix], data[:, 23]\n",
    "\n",
    "# define modeling pipeline\n",
    "model = RandomForestClassifier()\n",
    "imputer = IterativeImputer()\n",
    "pipeline = Pipeline(steps=[('i', imputer), ('m', model)])\n",
    "\n",
    "# define model evaluation\n",
    "cv = RepeatedStratifiedKFold(n_splits=10, n_repeats=3, random_state=1)\n",
    "\n",
    "# evaluate model\n",
    "scores = cross_val_score(pipeline, X, y, scoring='accuracy', cv=cv, n_jobs=-1)\n",
    "print('Mean Accuracy: %.3f (%.3f)' % (np.mean(scores), np.std(scores)))"
   ]
  },
  {
   "cell_type": "markdown",
   "id": "a2a7483f-7cf0-43ed-94e9-3ac67e5c2885",
   "metadata": {},
   "source": [
    "+ IterativeImputer and Different Imputation Order\n",
    "    + ascending\n",
    "    + descending\n",
    "    + right-to-left (Arabic)\n",
    "    + left-to-right (Roman)\n",
    "    + random"
   ]
  },
  {
   "cell_type": "code",
   "execution_count": 24,
   "id": "c1131b29-d423-4acf-baf4-3f6cd6ee341e",
   "metadata": {},
   "outputs": [
    {
     "name": "stdout",
     "output_type": "stream",
     "text": [
      ">ascending 0.871 (0.057)\n",
      ">descending 0.876 (0.050)\n",
      ">roman 0.872 (0.052)\n",
      ">arabic 0.872 (0.052)\n",
      ">random 0.867 (0.054)\n"
     ]
    },
    {
     "data": {
      "image/png": "[encoded data removed]",
      "text/plain": [
       "<Figure size 640x480 with 1 Axes>"
      ]
     },
     "metadata": {},
     "output_type": "display_data"
    }
   ],
   "source": [
    "# compare iterative imputation strategies for the horse colic dataset\n",
    "\n",
    "import numpy as np\n",
    "import pandas as pd\n",
    "from sklearn.ensemble import RandomForestClassifier\n",
    "from sklearn.experimental import enable_iterative_imputer\n",
    "from sklearn.impute import IterativeImputer\n",
    "from sklearn.model_selection import cross_val_score\n",
    "from sklearn.model_selection import RepeatedStratifiedKFold\n",
    "from sklearn.pipeline import Pipeline\n",
    "from matplotlib import pyplot\n",
    "\n",
    "# load dataset\n",
    "dataframe = pd.read_csv('../Datasets/horse-colic.csv', header=None, na_values='?')\n",
    "\n",
    "# split into input and output elements\n",
    "data = dataframe.values\n",
    "ix = [i for i in range(data.shape[1]) if i != 23]\n",
    "X, y = data[:, ix], data[:, 23]\n",
    "\n",
    "# evaluate each strategy on the dataset\n",
    "results = list()\n",
    "strategies = ['ascending', 'descending', 'roman', 'arabic', 'random']\n",
    "for s in strategies:\n",
    "    # create the modeling pipeline\n",
    "    pipeline = Pipeline(steps=[('i', IterativeImputer(imputation_order=s)), ('m', RandomForestClassifier())])\n",
    "    \n",
    "    # evaluate the model\n",
    "    cv = RepeatedStratifiedKFold(n_splits=10, n_repeats=3, random_state=1)\n",
    "    scores = cross_val_score(pipeline, X, y, scoring='accuracy', cv=cv, n_jobs=-1)\n",
    "    \n",
    "    # store results\n",
    "    results.append(scores)\n",
    "    print('>%s %.3f (%.3f)' % (s, np.mean(scores), np.std(scores)))\n",
    "    \n",
    "# plot model performance for comparison\n",
    "pyplot.boxplot(results, labels=strategies, showmeans=True)\n",
    "pyplot.show()"
   ]
  },
  {
   "cell_type": "markdown",
   "id": "4c015d4b-25e1-45ca-b01a-4d6eeda6461d",
   "metadata": {},
   "source": [
    "+ IterativeImputer and Different Number of Iterations\n",
    "    + It is possible that a large number of iterations may begin to bias or skew the estimate and that few iterations may be preferred. "
   ]
  },
  {
   "cell_type": "code",
   "execution_count": 25,
   "id": "f8a26ba2-46f4-46c8-a189-4908e6b833a4",
   "metadata": {},
   "outputs": [
    {
     "name": "stdout",
     "output_type": "stream",
     "text": [
      ">1 0.876 (0.057)\n",
      ">2 0.867 (0.051)\n",
      ">3 0.871 (0.051)\n",
      ">4 0.866 (0.058)\n",
      ">5 0.873 (0.059)\n",
      ">6 0.873 (0.054)\n",
      ">7 0.868 (0.053)\n",
      ">8 0.868 (0.053)\n",
      ">9 0.869 (0.051)\n",
      ">10 0.870 (0.051)\n",
      ">11 0.869 (0.053)\n",
      ">12 0.871 (0.051)\n",
      ">13 0.878 (0.055)\n",
      ">14 0.867 (0.054)\n",
      ">15 0.867 (0.049)\n",
      ">16 0.871 (0.055)\n",
      ">17 0.864 (0.049)\n",
      ">18 0.871 (0.054)\n",
      ">19 0.870 (0.053)\n",
      ">20 0.868 (0.047)\n"
     ]
    },
    {
     "data": {
      "image/png": "[encoded data removed]",
      "text/plain": [
       "<Figure size 640x480 with 1 Axes>"
      ]
     },
     "metadata": {},
     "output_type": "display_data"
    }
   ],
   "source": [
    "# compare iterative imputation number of iterations for the horse colic dataset\n",
    "\n",
    "import numpy as np\n",
    "import pandas as pd\n",
    "from sklearn.ensemble import RandomForestClassifier\n",
    "from sklearn.experimental import enable_iterative_imputer\n",
    "from sklearn.impute import IterativeImputer\n",
    "from sklearn.model_selection import cross_val_score\n",
    "from sklearn.model_selection import RepeatedStratifiedKFold\n",
    "from sklearn.pipeline import Pipeline\n",
    "from matplotlib import pyplot\n",
    "\n",
    "# load dataset\n",
    "dataframe = pd.read_csv('../Datasets/horse-colic.csv', header=None, na_values='?')\n",
    "\n",
    "# split into input and output elements\n",
    "data = dataframe.values\n",
    "ix = [i for i in range(data.shape[1]) if i != 23]\n",
    "X, y = data[:, ix], data[:, 23]\n",
    "\n",
    "# evaluate each strategy on the dataset\n",
    "results = list()\n",
    "strategies = [str(i) for i in range(1, 21)]\n",
    "for s in strategies:\n",
    "    # create the modeling pipeline\n",
    "    pipeline = Pipeline(steps=[('i', IterativeImputer(max_iter=int(s))), ('m', RandomForestClassifier())])\n",
    "    \n",
    "    # evaluate the model\n",
    "    cv = RepeatedStratifiedKFold(n_splits=10, n_repeats=3, random_state=1)\n",
    "    scores = cross_val_score(pipeline, X, y, scoring='accuracy', cv=cv, n_jobs=-1)\n",
    "    \n",
    "    # store results\n",
    "    results.append(scores)\n",
    "    print('>%s %.3f (%.3f)' % (s, np.mean(scores), np.std(scores)))\n",
    "    \n",
    "# plot model performance for comparison\n",
    "pyplot.boxplot(results, labels=strategies, showmeans=True)\n",
    "pyplot.show()"
   ]
  },
  {
   "cell_type": "markdown",
   "id": "023f4ae1-07f4-4097-a03b-b9f15dfbc8d6",
   "metadata": {},
   "source": [
    "+ IterativeImputer Transform When Making a Prediction"
   ]
  },
  {
   "cell_type": "code",
   "execution_count": 26,
   "id": "7e324806-981c-480a-9224-268b536e3b56",
   "metadata": {},
   "outputs": [
    {
     "name": "stdout",
     "output_type": "stream",
     "text": [
      "Predicted Class: 2\n"
     ]
    }
   ],
   "source": [
    "# iterative imputation strategy and prediction for the horse colic dataset\n",
    "\n",
    "import numpy as np\n",
    "import pandas as pd\n",
    "from sklearn.ensemble import RandomForestClassifier\n",
    "from sklearn.experimental import enable_iterative_imputer\n",
    "from sklearn.impute import IterativeImputer\n",
    "from sklearn.pipeline import Pipeline\n",
    "\n",
    "# load dataset\n",
    "dataframe = pd.read_csv('../Datasets/horse-colic.csv', header=None, na_values='?')\n",
    "\n",
    "# split into input and output elements\n",
    "data = dataframe.values\n",
    "ix = [i for i in range(data.shape[1]) if i != 23]\n",
    "X, y = data[:, ix], data[:, 23]\n",
    "\n",
    "# create the modeling pipeline\n",
    "pipeline = Pipeline(steps=[('i', IterativeImputer()), ('m', RandomForestClassifier())])\n",
    "\n",
    "# fit the model\n",
    "pipeline.fit(X, y)\n",
    "\n",
    "# define new data\n",
    "row = [2, 1, 530101, 38.50, 66, 28, 3, 3, np.nan, 2, 5, 4, 4, np.nan, np.nan, np.nan, 3, 5, 45.00,\n",
    "8.40, np.nan, np.nan, 2, 11300, 00000, 00000, 2]\n",
    "\n",
    "# make a prediction\n",
    "yhat = pipeline.predict([row])\n",
    "\n",
    "# summarize prediction\n",
    "print('Predicted Class: %d' % yhat[0])"
   ]
  }
 ],
 "metadata": {
  "kernelspec": {
   "display_name": "Python 3 (ipykernel)",
   "language": "python",
   "name": "python3"
  },
  "language_info": {
   "codemirror_mode": {
    "name": "ipython",
    "version": 3
   },
   "file_extension": ".py",
   "mimetype": "text/x-python",
   "name": "python",
   "nbconvert_exporter": "python",
   "pygments_lexer": "ipython3",
   "version": "3.10.13"
  }
 },
 "nbformat": 4,
 "nbformat_minor": 5
}
